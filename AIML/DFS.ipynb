{
 "cells": [
  {
   "cell_type": "code",
   "execution_count": 1,
   "id": "6d406bf2-2acf-4367-96db-c0a4403d897d",
   "metadata": {},
   "outputs": [
    {
     "name": "stdout",
     "output_type": "stream",
     "text": [
      "Following is the Depth First Search\n",
      "5\n",
      "3\n",
      "2\n",
      "4\n",
      "8\n",
      "7\n"
     ]
    }
   ],
   "source": [
    "graph = {\n",
    "\n",
    "'5': ['3','7'],\n",
    "\n",
    "'3': ['2','4'],\n",
    "\n",
    "'7': ['8'],\n",
    "\n",
    "'2': [],\n",
    "\n",
    "'4': ['8'],\n",
    "\n",
    "'8': []\n",
    "\n",
    "}\n",
    "\n",
    "visited = set()\n",
    "\n",
    "def dfs(visited, graph, node):\n",
    "  if node not in visited:\n",
    "    print(node)\n",
    "    visited.add(node)\n",
    "    for neighbour in graph[node]:\n",
    "      dfs(visited, graph, neighbour)\n",
    "\n",
    "print(\"Following is the Depth First Search\")\n",
    "dfs(visited, graph, '5')"
   ]
  },
  {
   "cell_type": "code",
   "execution_count": null,
   "id": "ab659a87-0b72-4aee-bfbd-9ed3b9066546",
   "metadata": {},
   "outputs": [],
   "source": []
  }
 ],
 "metadata": {
  "kernelspec": {
   "display_name": "Python 3 (ipykernel)",
   "language": "python",
   "name": "python3"
  },
  "language_info": {
   "codemirror_mode": {
    "name": "ipython",
    "version": 3
   },
   "file_extension": ".py",
   "mimetype": "text/x-python",
   "name": "python",
   "nbconvert_exporter": "python",
   "pygments_lexer": "ipython3",
   "version": "3.11.7"
  }
 },
 "nbformat": 4,
 "nbformat_minor": 5
}
