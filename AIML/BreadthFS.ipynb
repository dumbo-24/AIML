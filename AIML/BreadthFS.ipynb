{
 "cells": [
  {
   "cell_type": "code",
   "execution_count": 2,
   "id": "5b599888-3a6b-4556-88b3-ce9d8129ad05",
   "metadata": {},
   "outputs": [
    {
     "name": "stdout",
     "output_type": "stream",
     "text": [
      "Following is the Breadth First Search\n",
      "8 "
     ]
    }
   ],
   "source": [
    "graph = {\n",
    "\n",
    "'5': ['3','7'],\n",
    "\n",
    "'3': ['2','4'],\n",
    "\n",
    "'7': ['8'],\n",
    "\n",
    "'2': [],\n",
    "\n",
    "'4': ['8'],\n",
    "\n",
    "'8': []\n",
    "\n",
    "}\n",
    "\n",
    "visited = []\n",
    "\n",
    "queue = []\n",
    "\n",
    "def bfs(visited, graph, node):\n",
    "\n",
    " visited.append(node)\n",
    "\n",
    " queue.append(node)\n",
    "\n",
    " while queue:\n",
    "\n",
    "  m=queue.pop(0)\n",
    "\n",
    "  print(m,end=' ')\n",
    "\n",
    "  for neighbour in graph[m]:\n",
    "\n",
    "   if neighbour not in visited:\n",
    "\n",
    "    visited.append(neighbour)\n",
    "\n",
    "    queue.append(neighbour)\n",
    "\n",
    "print(\"Following is the Breadth First Search\")\n",
    "bfs(visited, graph, '8')"
   ]
  },
  {
   "cell_type": "code",
   "execution_count": 3,
   "id": "d5fb97c0-ef65-4903-a074-e993cc9ff509",
   "metadata": {},
   "outputs": [
    {
     "name": "stdout",
     "output_type": "stream",
     "text": [
      "Following is the Breadth-First Search\n",
      "5 3 7 2 4 8 "
     ]
    }
   ],
   "source": [
    "graph = {\n",
    "  '5' : ['3','7'],\n",
    "  '3' : ['2', '4'],\n",
    "  '7' : ['8'],\n",
    "  '2' : [],\n",
    "  '4' : ['8'],\n",
    "  '8' : []\n",
    "}\n",
    "\n",
    "visited = [] # List for visited nodes.\n",
    "queue = []     #Initialize a queue\n",
    "\n",
    "def bfs(visited, graph, node): #function for BFS\n",
    "  visited.append(node)\n",
    "  queue.append(node)\n",
    "\n",
    "  while queue:          # Creating loop to visit each node\n",
    "    m = queue.pop(0) \n",
    "    print (m, end = \" \") \n",
    "\n",
    "    for neighbour in graph[m]:\n",
    "      if neighbour not in visited:\n",
    "        visited.append(neighbour)\n",
    "        queue.append(neighbour)\n",
    "\n",
    "# Driver Code\n",
    "print(\"Following is the Breadth-First Search\")\n",
    "bfs(visited, graph, '5')    # function calling"
   ]
  },
  {
   "cell_type": "code",
   "execution_count": null,
   "id": "5e2df814-779c-4840-8c14-a5686faceeb7",
   "metadata": {},
   "outputs": [],
   "source": []
  }
 ],
 "metadata": {
  "kernelspec": {
   "display_name": "Python 3 (ipykernel)",
   "language": "python",
   "name": "python3"
  },
  "language_info": {
   "codemirror_mode": {
    "name": "ipython",
    "version": 3
   },
   "file_extension": ".py",
   "mimetype": "text/x-python",
   "name": "python",
   "nbconvert_exporter": "python",
   "pygments_lexer": "ipython3",
   "version": "3.11.7"
  }
 },
 "nbformat": 4,
 "nbformat_minor": 5
}
