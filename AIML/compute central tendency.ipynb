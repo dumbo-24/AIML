{
 "cells": [
  {
   "cell_type": "code",
   "execution_count": 1,
   "id": "0fdfd637-c850-40ee-b3a1-f004987883ce",
   "metadata": {},
   "outputs": [
    {
     "name": "stdout",
     "output_type": "stream",
     "text": [
      "66.28571428571429\n"
     ]
    }
   ],
   "source": [
    "import numpy\n",
    "\n",
    "weight = [88,45,76,33,87,90,45]\n",
    "x = numpy.mean(weight)\n",
    "print(x)"
   ]
  },
  {
   "cell_type": "code",
   "execution_count": 2,
   "id": "fbf995ab-12ee-44a5-8521-4e44c6008ae0",
   "metadata": {},
   "outputs": [
    {
     "name": "stdout",
     "output_type": "stream",
     "text": [
      "76.0\n"
     ]
    }
   ],
   "source": [
    "import numpy\n",
    "weight = [88,45,76,33,87,90,45]\n",
    "x= numpy.median(weight)\n",
    "print(x)"
   ]
  },
  {
   "cell_type": "code",
   "execution_count": null,
   "id": "e9cfb58f-5009-4a45-8c12-0a41dbc6a6c8",
   "metadata": {},
   "outputs": [],
   "source": []
  }
 ],
 "metadata": {
  "kernelspec": {
   "display_name": "Python 3 (ipykernel)",
   "language": "python",
   "name": "python3"
  },
  "language_info": {
   "codemirror_mode": {
    "name": "ipython",
    "version": 3
   },
   "file_extension": ".py",
   "mimetype": "text/x-python",
   "name": "python",
   "nbconvert_exporter": "python",
   "pygments_lexer": "ipython3",
   "version": "3.11.7"
  }
 },
 "nbformat": 4,
 "nbformat_minor": 5
}
